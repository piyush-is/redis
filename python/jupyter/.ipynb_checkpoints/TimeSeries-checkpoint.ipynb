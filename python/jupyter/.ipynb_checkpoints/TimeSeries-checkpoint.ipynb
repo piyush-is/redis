{
 "cells": [
  {
   "cell_type": "code",
   "execution_count": 35,
   "id": "32a61fda-c514-4edd-a898-d6fda7eef762",
   "metadata": {},
   "outputs": [
    {
     "name": "stdout",
     "output_type": "stream",
     "text": [
      "Connected to Redis\n"
     ]
    }
   ],
   "source": [
    "import redis\n",
    "import json\n",
    "\n",
    "# Define connection variables\n",
    "host = 'localhost'\n",
    "port =  6379\n",
    "password = None #'<password>'\n",
    "\n",
    "# Connect to Redis\n",
    "r = redis.Redis(host=host, port=port, password=password, decode_responses=True)\n",
    "print('Connected to Redis')\n",
    "\n",
    "#r.flushdb()"
   ]
  },
  {
   "cell_type": "markdown",
   "id": "5a3c22cc-3189-4fbd-b74a-a8c8d28ae720",
   "metadata": {},
   "source": [
    "# TimeSeries Data Type\n",
    "\n",
    "## Description of the use case\n",
    "This notebook contains examples for Redis time-series data type.\n",
    "The Redis time series data type stores real-valued data points along with the time they were collected. We can combine the values from a selection of time series and query them by time or value range. We can also compute aggregate functions of the data over periods of time and create new time series from the results. When you create a time series, you can specify a maximum retention period for the data, relative to the last reported timestamp, to prevent the time series from growing indefinitely.\n",
    "\n",
    "Time series support very fast reads and writes, making them ideal for applications such as:\n",
    "\n",
    "- Instrument data logging\n",
    "- System performance metrics\n",
    "- Financial market data\n",
    "- Internet of Things (IoT) sensor data\n",
    "- Smart metering\n",
    "- Quality of service (QoS) monitoring\n"
   ]
  },
  {
   "cell_type": "markdown",
   "id": "2706d83b-8aa5-4171-9472-03c3e3fca124",
   "metadata": {},
   "source": [
    "## Create a simple timeseries data\n"
   ]
  },
  {
   "cell_type": "code",
   "execution_count": 36,
   "id": "ff90a40f-1945-4940-970c-b0692351d251",
   "metadata": {},
   "outputs": [
    {
     "name": "stdout",
     "output_type": "stream",
     "text": [
      "Inserting simulated price data for RELIANCE...\n",
      "ts =1754412254000  price =2801.2743019219056\n",
      "ts =1754412255000  price =2799.1996846136985\n",
      "Inserted 10000 price data points.\n"
     ]
    }
   ],
   "source": [
    "import time\n",
    "import random\n",
    "\n",
    "# Ticker key\n",
    "price_key = \"ticker:RELIANCE:price\"\n",
    "rts=r.ts()\n",
    "\n",
    "# Delete if exists\n",
    "if r.exists(price_key):\n",
    "    r.delete(price_key)\n",
    "\n",
    "# Create time series with stock-related labels\n",
    "rts.create(price_key, labels={\"ticker\": \"RELIANCE\", \"market\": \"NSE\", \"type\": \"price\"})\n",
    "\n",
    "# Insert 1000 price points, simulating 1-second intervals\n",
    "start_time = int(time.time()) * 1000\n",
    "base_price = 2800.0\n",
    "\n",
    "print(\"Inserting simulated price data for RELIANCE...\")\n",
    "printable_ts = start_time + 9997*1000\n",
    "for i in range(10000):\n",
    "    timestamp = start_time + i * 1000\n",
    "    price = base_price + random.uniform(-2, 2)  # Simulated price fluctuation\n",
    "    rts.add(price_key, timestamp, round(price, 2))\n",
    "    if(timestamp > printable_ts):\n",
    "        print(\"ts =\"+str(timestamp) +\"  price =\"+str(price))\n",
    "\n",
    "print(\"Inserted 10000 price data points.\")\n"
   ]
  },
  {
   "cell_type": "markdown",
   "id": "f7daf63e-df9f-4b44-841b-c7853fb52917",
   "metadata": {},
   "source": [
    "## Get Latest Data"
   ]
  },
  {
   "cell_type": "code",
   "execution_count": 37,
   "id": "a1033421-4ffa-4ffa-91d5-ba91526170f6",
   "metadata": {
    "jupyter": {
     "source_hidden": true
    }
   },
   "outputs": [
    {
     "name": "stdout",
     "output_type": "stream",
     "text": [
      "Latest RELIANCE Price: (1754412255000, 2799.2)\n"
     ]
    }
   ],
   "source": [
    "latest_price = rts.get(price_key)\n",
    "print(f\"Latest RELIANCE Price: {latest_price}\")"
   ]
  },
  {
   "cell_type": "markdown",
   "id": "f3c0d084-7818-43d5-a34e-ba7be598ed5f",
   "metadata": {},
   "source": [
    "## Price History Over a Time Range"
   ]
  },
  {
   "cell_type": "code",
   "execution_count": 61,
   "id": "2ec4c783-572a-454d-9f40-af25517ee7d9",
   "metadata": {},
   "outputs": [
    {
     "name": "stdout",
     "output_type": "stream",
     "text": [
      "Fetched 601 price points.\n",
      "[(1754402256000, 2799.9), (1754402257000, 2799.42), (1754402258000, 2801.72), (1754402259000, 2801.99), (1754402260000, 2798.07)]\n"
     ]
    }
   ],
   "source": [
    "# Fetch first 10 minutes of data\n",
    "from_ts = start_time\n",
    "to_ts = start_time + 600 * 1000  # 10 minutes\n",
    "\n",
    "price_history = rts.range(price_key, from_ts, to_ts)\n",
    "print(f\"Fetched {len(price_history)} price points.\")\n",
    "print(price_history[:5])\n"
   ]
  },
  {
   "cell_type": "markdown",
   "id": "34357105-3d62-4c1e-b4be-b5c5ae735bb5",
   "metadata": {},
   "source": [
    "## TS.RANGE with Aggregation (1-Min Avg)"
   ]
  },
  {
   "cell_type": "code",
   "execution_count": 39,
   "id": "36765989-bfab-4c32-894d-75ea0b7f8506",
   "metadata": {},
   "outputs": [
    {
     "name": "stdout",
     "output_type": "stream",
     "text": [
      "RELIANCE 1-minute average price (first 5 buckets):\n",
      "[(1754402220000, 2800.4841666666666), (1754402280000, 2799.926833333332), (1754402340000, 2799.6175000000003), (1754402400000, 2800.0926666666664), (1754402460000, 2800.0175000000013), (1754402520000, 2800.076833333333), (1754402580000, 2800.1181666666675), (1754402640000, 2799.947666666668), (1754402700000, 2799.926166666666), (1754402760000, 2799.9431666666665), (1754402820000, 2800.011351351351)]\n"
     ]
    }
   ],
   "source": [
    "# Average RELIANCE price per minute\n",
    "avg_per_min = rts.range(price_key, from_ts, to_ts, aggregation_type=\"avg\", bucket_size_msec=60_000)\n",
    "print(\"RELIANCE 1-minute average price (first 5 buckets):\")\n",
    "print(avg_per_min)\n",
    "\n"
   ]
  },
  {
   "cell_type": "markdown",
   "id": "11eaf62a-38fb-467c-a0d2-112127fdbcef",
   "metadata": {},
   "source": [
    "## Get Latest Price Using Labels"
   ]
  },
  {
   "cell_type": "code",
   "execution_count": 40,
   "id": "ef123a61-69b6-4b7d-b689-6dc0c2de34c9",
   "metadata": {},
   "outputs": [
    {
     "name": "stdout",
     "output_type": "stream",
     "text": [
      "{'ticker:RELIANCE:price': [{}, 1754412255000, 2799.2]}\n",
      "[{}, 1754412255000, 2799.2]\n"
     ]
    }
   ],
   "source": [
    "# Fetch latest prices for all NSE tickers (or just RELIANCE here)\n",
    "#latest_prices = rts.mget([\"market=NSE\"])\n",
    "latest_prices = rts.mget([\"ticker=RELIANCE\"])\n",
    "for entry in latest_prices:\n",
    "    print(entry)\n",
    "    print(f\"{entry['ticker:RELIANCE:price']}\")\n"
   ]
  },
  {
   "cell_type": "markdown",
   "id": "2cf1f73c-3826-4a24-9d3f-c954864efe42",
   "metadata": {},
   "source": [
    "## Add Volume data\n"
   ]
  },
  {
   "cell_type": "code",
   "execution_count": 41,
   "id": "b326db26-eaa9-4e22-a45a-90a406cc67ac",
   "metadata": {},
   "outputs": [
    {
     "name": "stdout",
     "output_type": "stream",
     "text": [
      "Inserting volume data...\n",
      "Volume data inserted.\n"
     ]
    }
   ],
   "source": [
    "volume_key = \"ticker:RELIANCE:volume\"\n",
    "\n",
    "# Create volume time series\n",
    "if r.exists(volume_key):\n",
    "    r.delete(volume_key)\n",
    "\n",
    "rts.create(volume_key, labels={\"ticker\": \"RELIANCE\", \"market\": \"NSE\", \"type\": \"volume\"})\n",
    "\n",
    "# Insert volume data corresponding to price timestamps\n",
    "print(\"Inserting volume data...\")\n",
    "\n",
    "for i in range(10000):\n",
    "    timestamp = start_time + i * 1000\n",
    "    volume = random.randint(1000, 5000)\n",
    "    rts.add(volume_key, timestamp, volume)\n",
    "\n",
    "print(\"Volume data inserted.\")\n"
   ]
  },
  {
   "cell_type": "markdown",
   "id": "ef1b4ee1-86a0-4e16-848c-1aeee2494c3c",
   "metadata": {},
   "source": [
    "## Query Both Price and Volume"
   ]
  },
  {
   "cell_type": "code",
   "execution_count": 47,
   "id": "1bc5ea4f-77d0-483e-9bff-9c3565d289dc",
   "metadata": {},
   "outputs": [
    {
     "name": "stdout",
     "output_type": "stream",
     "text": [
      "price=2801.0\n",
      "volume=3713.0\n"
     ]
    }
   ],
   "source": [
    "# Fetch data for RELIANCE (both price & volume)\n",
    "mr_results = rts.mrange(from_ts, to_ts, filters=[\"ticker=RELIANCE\"])\n",
    "\n",
    "price_list = mr_results[0]['ticker:RELIANCE:price'][1]\n",
    "volume_list = mr_results[1]['ticker:RELIANCE:volume'][1]\n",
    "\n",
    "timestamp = 1754402263000\n",
    "price_dict = dict(price_list)\n",
    "volume_dict = dict(volume_list)\n",
    "#print(price_dict)\n",
    "#print(volume_dict)\n",
    "price = price_dict.get(timestamp)\n",
    "volume = volume_dict.get(timestamp)\n",
    "print(\"price=\" + str(price))\n",
    "print(\"volume=\" + str(volume))\n"
   ]
  },
  {
   "cell_type": "markdown",
   "id": "6a243bb7-8b49-4036-86f7-6f2b48d36ba9",
   "metadata": {},
   "source": [
    "## Search"
   ]
  },
  {
   "cell_type": "code",
   "execution_count": 60,
   "id": "cdecf938-11d4-4e35-834b-a4156ddacabf",
   "metadata": {},
   "outputs": [
    {
     "name": "stdout",
     "output_type": "stream",
     "text": [
      "NSE tickers count: 2\n",
      "601\n",
      "Volume series data (first element): (1754402256000, 4419.0)\n"
     ]
    }
   ],
   "source": [
    "# Example 1: Get all tickers on NSE\n",
    "nse_data = rts.mrange(from_ts, to_ts, filters=[\"market=NSE\"])\n",
    "\n",
    "# Example 2: Get only RELIANCE price\n",
    "reliance_price_data = rts.mrange(from_ts, to_ts, filters=[\"ticker=RELIANCE\", \"type=price\"])\n",
    "\n",
    "# Example 3: All volume series\n",
    "volume_data = rts.mrange(from_ts, to_ts, filters=[\"type=volume\"])\n",
    "#print(nse_data)\n",
    "print(f\"NSE tickers count: {len(nse_data)}\") # price and volume\n",
    "#print(type(reliance_price_data))\n",
    "print(len(reliance_price_data[0]['ticker:RELIANCE:price'][1]))\n",
    "print(f\"Volume series data (first element): {(volume_data[0]['ticker:RELIANCE:volume'][1])[0]}\")\n"
   ]
  },
  {
   "cell_type": "code",
   "execution_count": null,
   "id": "92f633a4-b43c-4f53-a5f9-f79f2779b5b3",
   "metadata": {},
   "outputs": [],
   "source": []
  },
  {
   "cell_type": "code",
   "execution_count": null,
   "id": "ba01aa5a-fa2a-4328-b67d-9c28776f2297",
   "metadata": {},
   "outputs": [],
   "source": []
  }
 ],
 "metadata": {
  "kernelspec": {
   "display_name": "Python 3 (ipykernel)",
   "language": "python",
   "name": "python3"
  },
  "language_info": {
   "codemirror_mode": {
    "name": "ipython",
    "version": 3
   },
   "file_extension": ".py",
   "mimetype": "text/x-python",
   "name": "python",
   "nbconvert_exporter": "python",
   "pygments_lexer": "ipython3",
   "version": "3.13.5"
  }
 },
 "nbformat": 4,
 "nbformat_minor": 5
}
